{
 "cells": [
  {
   "cell_type": "markdown",
   "metadata": {},
   "source": [
    "## Goals\n",
    "In this lab you will:\n",
    "- Implement Linear Regression from scratch using NumPy package\n",
    "- Implement Linear Regression using Scikit Learn package"
   ]
  },
  {
   "cell_type": "markdown",
   "metadata": {},
   "source": [
    "## 1. Implementing Linear Regression using Numpy "
   ]
  },
  {
   "cell_type": "markdown",
   "metadata": {},
   "source": [
    "### 1.1 Import Packages\n",
    "Import necessary packages like numpy, pandas and matplotlib."
   ]
  },
  {
   "cell_type": "code",
   "execution_count": 44,
   "metadata": {},
   "outputs": [],
   "source": [
    "import numpy as np\n",
    "import pandas as pd\n",
    "import matplotlib.pyplot as plt\n",
    "plt.style.use(['ggplot'])\n",
    "%matplotlib inline"
   ]
  },
  {
   "cell_type": "markdown",
   "metadata": {},
   "source": [
    "### 1.2 Data Preprocessing Functions\n",
    "\n",
    "Following this, we'll define two functions crucial for data preprocessing:\n",
    "\n",
    "1. `extractfeatures` - reads the dataset file and yields the features and target variable as numpy arrays.\n",
    "2. `standardizeFeatures` - standardizes the features to be centered around the mean with a unit standard deviation."
   ]
  },
  {
   "cell_type": "code",
   "execution_count": 60,
   "metadata": {},
   "outputs": [],
   "source": [
    "def splitdata(filename, feature_name, target_name):\n",
    "    \"\"\"\n",
    "    Split the dataset into training and testing sets.\n",
    "    Then Extracts features and target variable for both sets.\n",
    "    \n",
    "    Parameters:\n",
    "    - filename (str): The path of the dataset file.\n",
    "    - feature_name (str): The name of the feature variable.\n",
    "    - target_name (str): The name of the target variable.\n",
    "\n",
    "    Returns:\n",
    "    Tuple[np.ndarray, np.ndarray]: A tuple containing four numpy arrays:\n",
    "        - The trainig dataset features array.\n",
    "        - The trainig dataset target variable array.\n",
    "        - The testing dataset features array.\n",
    "        - The testing dataset target variable array.\n",
    "    \"\"\"\n",
    "    dataset = pd.read_csv(filename)\n",
    "    shuffled_dataset = dataset.sample(frac=1)\n",
    "    traning_size = int(len(shuffled_dataset)*0.8)\n",
    "    training = shuffled_dataset.iloc[:traning_size,:]\n",
    "    testing = shuffled_dataset.iloc[traning_size:,:]\n",
    "    x_train = training[feature_name].to_numpy()\n",
    "    y_train = training[target_name].to_numpy()\n",
    "    x_test = testing[feature_name].to_numpy()\n",
    "    y_test = testing[target_name].to_numpy()\n",
    "    return x_train, y_train, x_test, y_test"
   ]
  },
  {
   "cell_type": "code",
   "execution_count": 47,
   "metadata": {},
   "outputs": [],
   "source": [
    "def standardizeFeatures(X):\n",
    "    \"\"\"\n",
    "    Standardizes a numpy array by centering it around the mean with a unit standard deviation.\n",
    "\n",
    "    Parameters:\n",
    "    - X (np.ndarray): The numpy array to be standardized.\n",
    "    \n",
    "    Returns:\n",
    "    np.ndarray: The standardized numpy array.\n",
    "    \"\"\"\n",
    "    return (X - X.mean())/X.std()"
   ]
  },
  {
   "cell_type": "markdown",
   "metadata": {},
   "source": [
    "### 1.3 Find the best model with Gradient Descent\n",
    "\n",
    "Next, we will implement two functions named `computeCost` and `gradientDescent`.\n",
    "\n",
    "- `computeCost` will compute the cost of a linear regression model\n",
    "-  `gradientDescent` will perform gradient descent to minimize the cost of a linear regression model.\n"
   ]
  },
  {
   "cell_type": "code",
   "execution_count": 55,
   "metadata": {},
   "outputs": [],
   "source": [
    "def computeCost(X,y,theta):\n",
    "    \"\"\"\n",
    "    Compute the cost of a linear regression model.\n",
    "\n",
    "    Parameters:\n",
    "    - X (numpy.ndarray): The input features, where X[:, 1] is assumed to be the feature vector.\n",
    "    - y (numpy.ndarray): The target variable.\n",
    "    - theta (numpy.ndarray): The parameters of the linear regression model.\n",
    "\n",
    "    Returns:\n",
    "    float: The cost of the linear regression model, calculated using the mean squared error.\n",
    "    \"\"\"\n",
    "    \n",
    "    m=len(y)\n",
    "    #iterative solution\n",
    "    J=0\n",
    "    s=0\n",
    "    for i in range(0,m):\n",
    "        s=s+((theta[0]+theta[1]*X[i,1])-y[i])**2\n",
    "    J=s/(2*m)\n",
    "    \n",
    "    #vectorized solution\n",
    "    y=y.reshape(m,1)\n",
    "    J1=(np.dot((np.dot(X,theta)-y).T,(np.dot(X,theta)-y)))/(2*m)\n",
    "\n",
    "    return J1"
   ]
  },
  {
   "cell_type": "code",
   "execution_count": 56,
   "metadata": {},
   "outputs": [],
   "source": [
    "def gradientDescent(X,y,theta,alpha,iterations):\n",
    "    \"\"\"\n",
    "    Perform gradient descent to minimize the cost of a linear regression model.\n",
    "\n",
    "    Parameters:\n",
    "    - X (numpy.ndarray): The input features, where X[:, 1] is assumed to be the feature vector.\n",
    "    - y (numpy.ndarray): The target variable.\n",
    "    - theta (numpy.ndarray): The parameters of the linear regression model.\n",
    "    - alpha (float): The learning rate, controlling the step size in the gradient descent process.\n",
    "    - iterations (int): The number of iterations for gradient descent.\n",
    "\n",
    "    Returns:\n",
    "    tuple: A tuple containing:\n",
    "        - numpy.ndarray: The optimized parameters (theta) for the linear regression model.\n",
    "        - numpy.ndarray: The history of cost values during each iteration.\n",
    "    \"\"\"\n",
    "    J_history=np.zeros((iterations,1))\n",
    "\n",
    "    m=len(y)# number of training examples\n",
    "    y=y.reshape(m,1)\n",
    "    for iter in range(0,iterations):\n",
    "        s1=0\n",
    "        s0=0\n",
    "        for i in range(0,m):\n",
    "            s0+=((theta[0]+theta[1]*X[i,1])-y[i])\n",
    "            s1+=((theta[0]+theta[1]*X[i,1])-y[i])*X[i,1]\n",
    "        theta[0]=theta[0]-alpha*s0/m\n",
    "        theta[1]=theta[1]-alpha*s1/m\n",
    "        J_history[iter]=computeCost(X,y,theta)\n",
    "    return theta,J_history"
   ]
  },
  {
   "cell_type": "markdown",
   "metadata": {},
   "source": [
    "### 1.4 Prediction and Mean Squared Error\n",
    "\n",
    "Now, we will implement two functions named `predict` and `meanSquaredError`.\n",
    "\n",
    "- `predict` predicts the target variable using the parameters of a linear regression model.\n",
    "\n",
    "- `meanSquaredError` calculates the mean squared error between actual and predicted values."
   ]
  },
  {
   "cell_type": "code",
   "execution_count": 57,
   "metadata": {},
   "outputs": [],
   "source": [
    "def predict(theta,X):\n",
    "    \"\"\"\n",
    "    Predict the target variable using the parameters of a linear regression model.\n",
    "\n",
    "    Parameters:\n",
    "    - theta (numpy.ndarray): The parameters of the linear regression model.\n",
    "    - X (numpy.ndarray): The input features, where X is assumed to be a single feature vector.\n",
    "\n",
    "    Returns:\n",
    "    float: The predicted value of the target variable based on the linear regression model.\n",
    "    \"\"\"\n",
    "    return theta[0]+theta[1]*X"
   ]
  },
  {
   "cell_type": "code",
   "execution_count": 58,
   "metadata": {},
   "outputs": [],
   "source": [
    "def MeanSquaredError(y, y_pred):\n",
    "    \"\"\"\n",
    "    Calculate the mean squared error between actual and predicted values.\n",
    "\n",
    "    Parameters:\n",
    "    - y (numpy.ndarray): The actual target variable values.\n",
    "    - y_pred (numpy.ndarray): The predicted target variable values.\n",
    "\n",
    "    Returns:\n",
    "    float: The mean squared error between actual and predicted values, rounded to three decimal places.\n",
    "    \"\"\"\n",
    "    return round(((y - y_pred)**2).sum()/len(y),3)"
   ]
  },
  {
   "cell_type": "markdown",
   "metadata": {},
   "source": [
    "Now, we can employ the functions we have defined to train a linear regression model using the `linear_dataset.csv`, aiming to predict the target variable `Y` based on a linear relationship with the feature `X`."
   ]
  },
  {
   "cell_type": "markdown",
   "metadata": {},
   "source": [
    "Load the dataset, split into training and testing set and then and generate the features and target variables for both sets using the `splitdata` function. "
   ]
  },
  {
   "cell_type": "code",
   "execution_count": 66,
   "metadata": {},
   "outputs": [],
   "source": [
    "X_train,y_train, X_test, y_test=splitdata('linear_dataset.csv', \"X\", \"Y\")#loading data from training dataset"
   ]
  },
  {
   "cell_type": "markdown",
   "metadata": {},
   "source": [
    "Let's plot our training  data to check the relation between X and Y."
   ]
  },
  {
   "cell_type": "code",
   "execution_count": 69,
   "metadata": {},
   "outputs": [
    {
     "data": {
      "text/plain": [
       "Text(0, 0.5, '$y$')"
      ]
     },
     "execution_count": 69,
     "metadata": {},
     "output_type": "execute_result"
    },
    {
     "data": {
      "image/png": "[encoded data removed]",
      "text/plain": [
       "<Figure size 432x288 with 1 Axes>"
      ]
     },
     "metadata": {
      "needs_background": "light"
     },
     "output_type": "display_data"
    }
   ],
   "source": [
    "plt.figure(1)\n",
    "plt.plot(X_train,y_train,'b.')\n",
    "plt.xlabel(\"$X$\", fontsize=18)\n",
    "plt.ylabel(\"$y$\", rotation=0, fontsize=18)"
   ]
  },
  {
   "cell_type": "markdown",
   "metadata": {},
   "source": [
    "Next, we need to standadize the data using the `standardizeFeatures` function. "
   ]
  },
  {
   "cell_type": "code",
   "execution_count": 71,
   "metadata": {},
   "outputs": [
    {
     "name": "stdout",
     "output_type": "stream",
     "text": [
      "Training Data Normalization ended\n"
     ]
    }
   ],
   "source": [
    "norm_X = standardizeFeatures(X_train)\n",
    "print(\"Training Data Normalization ended\")"
   ]
  },
  {
   "cell_type": "markdown",
   "metadata": {},
   "source": [
    "Prior to initiating the training of a linear regression model, let's determine the optimal parameters for this dataset by applying the closed-form solution discussed in our linear algebra lectures."
   ]
  },
  {
   "cell_type": "code",
   "execution_count": 73,
   "metadata": {},
   "outputs": [
    {
     "name": "stdout",
     "output_type": "stream",
     "text": [
      "Theta (analytical): [ 23.171 , 11.334 ]^t\n"
     ]
    }
   ],
   "source": [
    "A = np.c_[np.ones((norm_X.size,1)),norm_X]\n",
    "theta_analytical = np.linalg.inv(A.T.dot(A)).dot(A.T).dot(y_train)\n",
    "print('Theta (analytical): [ {:0.3f} , {:0.3f} ]^t'.format(theta_analytical[0],theta_analytical[1]))"
   ]
  },
  {
   "cell_type": "markdown",
   "metadata": {},
   "source": [
    "Let's plot the prediction line we got from the closed form solution. "
   ]
  },
  {
   "cell_type": "code",
   "execution_count": 75,
   "metadata": {},
   "outputs": [
    {
     "data": {
      "text/plain": [
       "Text(0, 0.5, '$y$')"
      ]
     },
     "execution_count": 75,
     "metadata": {},
     "output_type": "execute_result"
    },
    {
     "data": {
      "image/png": "[encoded data removed]",
      "text/plain": [
       "<Figure size 432x288 with 1 Axes>"
      ]
     },
     "metadata": {
      "needs_background": "light"
     },
     "output_type": "display_data"
    }
   ],
   "source": [
    "X_ln = np.array([min(norm_X),max(norm_X)]) #Plot a line between min x and max x\n",
    "A_ln = np.c_[np.ones((2,1)),X_ln]\n",
    "y_ln = A_ln.dot(theta_analytical)\n",
    "\n",
    "plt.figure(1)\n",
    "plt.plot(X_ln,y_ln,'r-')\n",
    "plt.plot(norm_X,y_train,'b.')\n",
    "plt.xlabel(\"$x$\", fontsize=18)\n",
    "plt.ylabel(\"$y$\", rotation=0, fontsize=18)"
   ]
  },
  {
   "cell_type": "markdown",
   "metadata": {},
   "source": [
    "Now, we are ready the train the linear model using the training set. "
   ]
  },
  {
   "cell_type": "code",
   "execution_count": 78,
   "metadata": {},
   "outputs": [],
   "source": [
    "input_X=np.c_[np.ones((len(norm_X),1)),norm_X]#Add a column of ones to X\n",
    "theta=np.ones((2,1))#initialize fitting parameters\n",
    "\n",
    "iterations=100\n",
    "alpha = 0.05\n",
    "\n",
    "theta1,J_history=gradientDescent(input_X,y_train,theta,alpha,iterations)#gets the final data and the values of cost function in each iteration"
   ]
  },
  {
   "cell_type": "markdown",
   "metadata": {},
   "source": [
    "Let's compute the Mean Squared Error for the training set using the `MeanSquaredError` function. "
   ]
  },
  {
   "cell_type": "code",
   "execution_count": 79,
   "metadata": {},
   "outputs": [
    {
     "name": "stdout",
     "output_type": "stream",
     "text": [
      "The Mean Squared Error in the training set for alpha =   0.05 is  7.211\n"
     ]
    }
   ],
   "source": [
    "print(\"The Mean Squared Error in the training set for alpha =  \",alpha, \"is \", sumSquaresError(y_train, predict(theta1, norm_X)))"
   ]
  },
  {
   "cell_type": "markdown",
   "metadata": {},
   "source": [
    "Let's compute the Mean Squared Error for the testing set using the `MeanSquaredError` function. "
   ]
  },
  {
   "cell_type": "code",
   "execution_count": 80,
   "metadata": {},
   "outputs": [
    {
     "name": "stdout",
     "output_type": "stream",
     "text": [
      "The Mean Squared Error in the testing set for alpha =   0.05 is  8.153\n"
     ]
    }
   ],
   "source": [
    "print(\"The Mean Squared Error in the testing set for alpha =  \",alpha, \"is \", sumSquaresError(y_test, predict(theta1, standardizeFeatures(X_test))))"
   ]
  },
  {
   "cell_type": "markdown",
   "metadata": {},
   "source": [
    "Let's plot the prediction line we leaned from linear regression."
   ]
  },
  {
   "cell_type": "code",
   "execution_count": 84,
   "metadata": {},
   "outputs": [
    {
     "data": {
      "text/plain": [
       "<matplotlib.legend.Legend at 0x7f7b19f587f0>"
      ]
     },
     "execution_count": 84,
     "metadata": {},
     "output_type": "execute_result"
    },
    {
     "data": {
      "image/png": "[encoded data removed]",
      "text/plain": [
       "<Figure size 432x288 with 1 Axes>"
      ]
     },
     "metadata": {
      "needs_background": "light"
     },
     "output_type": "display_data"
    }
   ],
   "source": [
    "X_ln = np.array([min(norm_X),max(norm_X)]) #Plot a line between min x and max x\n",
    "A_ln = np.c_[np.ones((2,1)),X_ln]\n",
    "y_ln = A_ln.dot(theta1)\n",
    "\n",
    "plt.figure(1)\n",
    "plt.plot(X_ln,y_ln,'r-')\n",
    "plt.plot(norm_X,y_train,'b.', label = \"Train\")\n",
    "plt.plot(standardizeFeatures(X_test),y_test,'g.', label = \"Test\")\n",
    "plt.xlabel(\"$X$\", fontsize=18)\n",
    "plt.ylabel(\"$y$\", rotation=0, fontsize=18)\n",
    "plt.legend()"
   ]
  },
  {
   "cell_type": "markdown",
   "metadata": {},
   "source": [
    "## 2. Implementing Linear Regression with Scikit Learn"
   ]
  },
  {
   "cell_type": "markdown",
   "metadata": {},
   "source": [
    "Import the necessary function from scikit learn. "
   ]
  },
  {
   "cell_type": "code",
   "execution_count": 125,
   "metadata": {},
   "outputs": [],
   "source": [
    "from sklearn.linear_model import LinearRegression\n",
    "from sklearn.preprocessing import StandardScaler\n",
    "from sklearn.model_selection import train_test_split\n",
    "from sklearn.metrics import mean_squared_error"
   ]
  },
  {
   "cell_type": "markdown",
   "metadata": {},
   "source": [
    "Load the data info a pandas dataframe using the `read_csv` function. "
   ]
  },
  {
   "cell_type": "code",
   "execution_count": 126,
   "metadata": {},
   "outputs": [],
   "source": [
    "data = pd.read_csv(\"linear_dataset.csv\")"
   ]
  },
  {
   "cell_type": "code",
   "execution_count": 127,
   "metadata": {},
   "outputs": [
    {
     "data": {
      "text/html": [
       "<div>\n",
       "<style scoped>\n",
       "    .dataframe tbody tr th:only-of-type {\n",
       "        vertical-align: middle;\n",
       "    }\n",
       "\n",
       "    .dataframe tbody tr th {\n",
       "        vertical-align: top;\n",
       "    }\n",
       "\n",
       "    .dataframe thead th {\n",
       "        text-align: right;\n",
       "    }\n",
       "</style>\n",
       "<table border=\"1\" class=\"dataframe\">\n",
       "  <thead>\n",
       "    <tr style=\"text-align: right;\">\n",
       "      <th></th>\n",
       "      <th>X</th>\n",
       "      <th>Y</th>\n",
       "    </tr>\n",
       "  </thead>\n",
       "  <tbody>\n",
       "    <tr>\n",
       "      <th>0</th>\n",
       "      <td>0</td>\n",
       "      <td>3.771566</td>\n",
       "    </tr>\n",
       "    <tr>\n",
       "      <th>1</th>\n",
       "      <td>1</td>\n",
       "      <td>7.721047</td>\n",
       "    </tr>\n",
       "    <tr>\n",
       "      <th>2</th>\n",
       "      <td>2</td>\n",
       "      <td>7.037857</td>\n",
       "    </tr>\n",
       "    <tr>\n",
       "      <th>3</th>\n",
       "      <td>3</td>\n",
       "      <td>7.683817</td>\n",
       "    </tr>\n",
       "    <tr>\n",
       "      <th>4</th>\n",
       "      <td>4</td>\n",
       "      <td>-0.150454</td>\n",
       "    </tr>\n",
       "  </tbody>\n",
       "</table>\n",
       "</div>"
      ],
      "text/plain": [
       "   X         Y\n",
       "0  0  3.771566\n",
       "1  1  7.721047\n",
       "2  2  7.037857\n",
       "3  3  7.683817\n",
       "4  4 -0.150454"
      ]
     },
     "execution_count": 127,
     "metadata": {},
     "output_type": "execute_result"
    }
   ],
   "source": [
    "data.head()"
   ]
  },
  {
   "cell_type": "markdown",
   "metadata": {},
   "source": [
    "#### Standadize the data"
   ]
  },
  {
   "cell_type": "markdown",
   "metadata": {},
   "source": [
    "Standardize the data using the `fit_transform` function of `StandardScaler`. "
   ]
  },
  {
   "cell_type": "code",
   "execution_count": 128,
   "metadata": {},
   "outputs": [],
   "source": [
    "data[[\"X\"]] = StandardScaler().fit_transform(data[[\"X\"]])"
   ]
  },
  {
   "cell_type": "markdown",
   "metadata": {},
   "source": [
    "#### Building a Logistic Regression model\n",
    "\n",
    "Let's start by splitting our data into a training set and test set (there is another test.csv file that you can play around with in case you want to use all this data for training).\n",
    "\n",
    "##### Train Test Split"
   ]
  },
  {
   "cell_type": "code",
   "execution_count": 129,
   "metadata": {},
   "outputs": [],
   "source": [
    "X_train, X_test, y_train, y_test = train_test_split(data.drop('Y',axis=1), \n",
    "                                                    data['Y'], test_size=0.2, \n",
    "                                                    random_state=42)"
   ]
  },
  {
   "cell_type": "markdown",
   "metadata": {},
   "source": [
    "#### Create and fit the regression model"
   ]
  },
  {
   "cell_type": "code",
   "execution_count": 130,
   "metadata": {},
   "outputs": [
    {
     "data": {
      "text/plain": [
       "LinearRegression()"
      ]
     },
     "execution_count": 130,
     "metadata": {},
     "output_type": "execute_result"
    }
   ],
   "source": [
    "model = LinearRegression()\n",
    "model.fit(X_train, y_train)"
   ]
  },
  {
   "cell_type": "markdown",
   "metadata": {},
   "source": [
    "#### View parameters\n",
    "Note, the parameters are associated with the *normalized* input data. The fit parameters are very close to those found with the closed form solution. "
   ]
  },
  {
   "cell_type": "code",
   "execution_count": 131,
   "metadata": {},
   "outputs": [
    {
     "name": "stdout",
     "output_type": "stream",
     "text": [
      "model parameters:slope: [11.14415487], intercept:23.026239478381527\n",
      "parameters from numpy solution: slope: [11.27310318], intercept: [23.03972532]\n",
      "parameters from closed form solution: slope: 11.334287635579212, intercept: 23.170989313342638\n"
     ]
    }
   ],
   "source": [
    "intercept = model.intercept_\n",
    "slope = model.coef_\n",
    "print(f\"model parameters:slope: {slope}, intercept:{intercept}\")\n",
    "print( f\"parameters from numpy solution: slope: {theta[1]}, intercept: {theta[0]}\")\n",
    "print( f\"parameters from closed form solution: slope: {theta_analytical[1]}, intercept: {theta_analytical[0]}\")"
   ]
  },
  {
   "cell_type": "markdown",
   "metadata": {},
   "source": [
    "#### Make predictions\n",
    "Predict the targets of the training and testing data."
   ]
  },
  {
   "cell_type": "code",
   "execution_count": 132,
   "metadata": {},
   "outputs": [],
   "source": [
    "y_train_predict = model.predict(X_train)\n",
    "y_test_predict = model.predict(X_test)"
   ]
  },
  {
   "cell_type": "markdown",
   "metadata": {},
   "source": [
    "#### Calculate Mean Squared Error from the `sklearn.metrics` package. "
   ]
  },
  {
   "cell_type": "code",
   "execution_count": 138,
   "metadata": {},
   "outputs": [],
   "source": [
    "train_error = MeanSquaredError(y_train, y_train_predict)\n",
    "test_error = MeanSquaredError(y_test, y_test_predict)"
   ]
  },
  {
   "cell_type": "code",
   "execution_count": 139,
   "metadata": {},
   "outputs": [
    {
     "name": "stdout",
     "output_type": "stream",
     "text": [
      "Mean Squared Error for the training dataset:7.596\n",
      "Mean Squared Error for the testing dataset:6.356\n"
     ]
    }
   ],
   "source": [
    "print(f\"Mean Squared Error for the training dataset:{train_error}\")\n",
    "print(f\"Mean Squared Error for the testing dataset:{test_error}\")"
   ]
  },
  {
   "cell_type": "markdown",
   "metadata": {},
   "source": [
    "Congratulations!\n",
    "\n",
    "In this lab you:\n",
    "\n",
    "- learned how to implement Linear Regression from scratch using Numpy.\n",
    "- learned how to implement Linear Regression using the scikit-learn Package. "
   ]
  }
 ],
 "metadata": {
  "kernelspec": {
   "display_name": "Python 3",
   "language": "python",
   "name": "python3"
  },
  "language_info": {
   "codemirror_mode": {
    "name": "ipython",
    "version": 3
   },
   "file_extension": ".py",
   "mimetype": "text/x-python",
   "name": "python",
   "nbconvert_exporter": "python",
   "pygments_lexer": "ipython3",
   "version": "3.8.3"
  }
 },
 "nbformat": 4,
 "nbformat_minor": 4
}
