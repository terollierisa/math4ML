{
  "cells": [
    {
      "cell_type": "markdown",
      "id": "reverse-interview",
      "metadata": {
        "id": "reverse-interview"
      },
      "source": [
        "# 1. Vectors Operations"
      ]
    },
    {
      "cell_type": "markdown",
      "id": "parental-conclusion",
      "metadata": {
        "id": "parental-conclusion"
      },
      "source": [
        "In the first part of this homework we will use Python and `NumPy` functions to perform main vector operations:\n",
        "- scalar multiplication\n",
        "- sum of vectors\n",
        "- dot product"
      ]
    },
    {
      "cell_type": "markdown",
      "id": "advance-butler",
      "metadata": {
        "id": "advance-butler"
      },
      "source": [
        "## Packages\n",
        "\n",
        "Import the `NumPy` package to access its functions."
      ]
    },
    {
      "cell_type": "code",
      "execution_count": null,
      "id": "promotional-buffer",
      "metadata": {
        "id": "promotional-buffer"
      },
      "outputs": [],
      "source": [
        "import numpy as np"
      ]
    },
    {
      "cell_type": "markdown",
      "id": "severe-studio",
      "metadata": {
        "id": "severe-studio"
      },
      "source": [
        "<a name='1.1'></a>\n",
        "## 1.1 - Scalar Multiplication\n",
        "\n",
        "Write a function name `ScalarMultiplication` that gets as an input a numpy array $v$ representing a vector and a scalar $\\alpha$ and returns the $\\alpha v$. Hint: In Python you can perform this operation with a $*$ operator. Replace `None` with your solution."
      ]
    },
    {
      "cell_type": "code",
      "source": [
        "def ScalarMultiplication(v, a):\n",
        "  None"
      ],
      "metadata": {
        "id": "grnGTviMGxWG"
      },
      "id": "grnGTviMGxWG",
      "execution_count": 1,
      "outputs": []
    },
    {
      "cell_type": "markdown",
      "metadata": {
        "id": "q5nHjp2dHaJR"
      },
      "source": [
        "<a name='1.2'></a>\n",
        "## 1.2 - Vectors Addition with Loops\n",
        "\n",
        "Write a function name `AddLoop` that gets as an input two numpy array $v$ and $w$ representing two vector and returns the $v + w$ using a for loop. For simplicity, assume the vectors $v$ and $w$ have the same length. Replace `None` with your solution."
      ],
      "id": "q5nHjp2dHaJR"
    },
    {
      "cell_type": "code",
      "source": [
        "def AddLoop(v,w):\n",
        "  None"
      ],
      "metadata": {
        "id": "Rto1iflsH1XX"
      },
      "id": "Rto1iflsH1XX",
      "execution_count": null,
      "outputs": []
    },
    {
      "cell_type": "markdown",
      "metadata": {
        "id": "5X9Ty2L-H8Yf"
      },
      "source": [
        "<a name='1.3'></a>\n",
        "## 1.3 - Vectors Addition with `Numpy` package\n",
        "\n",
        "Write a function name `Add` that gets as an input two numpy array $v$ and $w$ representing two vector and returns the $v + w$ using the `Numpy` package. For simplicity, assume the vectors $v$ and $w$ have the same length. Replace `None` with your solution."
      ],
      "id": "5X9Ty2L-H8Yf"
    },
    {
      "cell_type": "code",
      "source": [
        "def Add(v,w):\n",
        "  None"
      ],
      "metadata": {
        "id": "eiojULUzIHRp"
      },
      "id": "eiojULUzIHRp",
      "execution_count": null,
      "outputs": []
    },
    {
      "cell_type": "markdown",
      "metadata": {
        "id": "SbnwVLePILn3"
      },
      "source": [
        "<a name='1.4'></a>\n",
        "## 1.4 - Dot Product with Loops\n",
        "\n",
        "Write a function name `DotLoop` that gets as an input two numpy array $v$ and $w$ representing two vector and returns the  dot product between $v$ and $w$ using a for loop. For simplicity, assume the vectors $v$ and $w$ have the same length. Replace `None` with your solution."
      ],
      "id": "SbnwVLePILn3"
    },
    {
      "cell_type": "code",
      "source": [
        "def DotLoop(v,w):\n",
        "  None"
      ],
      "metadata": {
        "id": "CN-lHn4HIcq-"
      },
      "id": "CN-lHn4HIcq-",
      "execution_count": null,
      "outputs": []
    },
    {
      "cell_type": "markdown",
      "metadata": {
        "id": "96WQV4qHIfu-"
      },
      "source": [
        "<a name='1.5'></a>\n",
        "## 1.5 - Dot Product\n",
        "\n",
        "Write a function name `Dot` that gets as an input two numpy array $v$ and $w$ representing two vector and returns the  dot product between $v$ and $w$ using the `Numpy` package. For simplicity, assume the vectors $v$ and $w$ have the same length. Replace `None` with your solution."
      ],
      "id": "96WQV4qHIfu-"
    },
    {
      "cell_type": "code",
      "source": [
        "def Dot(v,w):\n",
        "  None"
      ],
      "metadata": {
        "id": "ITjaJvJZIrO6"
      },
      "id": "ITjaJvJZIrO6",
      "execution_count": 2,
      "outputs": []
    },
    {
      "cell_type": "markdown",
      "source": [
        "# 2. Matrix Operations"
      ],
      "metadata": {
        "id": "8xNmJyZuJTlW"
      },
      "id": "8xNmJyZuJTlW"
    },
    {
      "cell_type": "markdown",
      "source": [
        "In the second part of this homework we will use Python and NumPy functions to perform main matrix operations:\n",
        "\n",
        "- sum of matrices\n",
        "- matrix multiplication"
      ],
      "metadata": {
        "id": "fkZw8sTJJYAC"
      },
      "id": "fkZw8sTJJYAC"
    },
    {
      "cell_type": "markdown",
      "source": [
        "### 2.1 Addition\n",
        "\n",
        "Write a function named `AddMatrices` that gets as an input tow numpy arrays $A$ and $B$ representing two matrices and returns the sum of $A$ and $B$. Replace `None` with your solution."
      ],
      "metadata": {
        "id": "Zrs7cjK-9p08"
      },
      "id": "Zrs7cjK-9p08"
    },
    {
      "cell_type": "code",
      "source": [
        "def AddMatrices(A,B):\n",
        "  None"
      ],
      "metadata": {
        "id": "g6zbdMkw-S2B"
      },
      "id": "g6zbdMkw-S2B",
      "execution_count": 3,
      "outputs": []
    },
    {
      "cell_type": "markdown",
      "source": [
        "### 2.2 Matrix Multiplication with Loops\n",
        "\n",
        "Write a function named `MultiplyMatricesLoop` that gets as an input two numpy arrays $A$ and $B$ representing two matrices and returns the product of $A$ and $B$ using for or while loops. Make sure to check whether this operation can be performed. Return $-1$ if we can not multiply $A$ with $B$. Replace `None` with your solution."
      ],
      "metadata": {
        "id": "ZNlo-WJo-eV1"
      },
      "id": "ZNlo-WJo-eV1"
    },
    {
      "cell_type": "code",
      "source": [
        "def MultiplyMatricesLoop(A,B):\n",
        "  None"
      ],
      "metadata": {
        "id": "jaIWAT_j-w1u"
      },
      "id": "jaIWAT_j-w1u",
      "execution_count": 4,
      "outputs": []
    },
    {
      "cell_type": "markdown",
      "source": [
        "### 2.2 Matrix Multiplication\n",
        "\n",
        "Write a function named `MultiplyMatrices` that gets as an input two numpy arrays $A$ and $B$ representing two matrices and returns the product of $A$ and $B$ using the `Numpy` package. Make sure to check whether this operation can be performed. Return $-1$ if we can not multiply $A$ with $B$. Replace `None` with your solution."
      ],
      "metadata": {
        "id": "GeSwt5GrlCDm"
      },
      "id": "GeSwt5GrlCDm"
    },
    {
      "cell_type": "code",
      "source": [
        "def MultiplyMatrices(A,B):\n",
        "  None"
      ],
      "metadata": {
        "id": "4bPyhtyllRQf"
      },
      "execution_count": 5,
      "outputs": [],
      "id": "4bPyhtyllRQf"
    }
  ],
  "metadata": {
    "kernelspec": {
      "display_name": "Python 3",
      "language": "python",
      "name": "python3"
    },
    "language_info": {
      "codemirror_mode": {
        "name": "ipython",
        "version": 3
      },
      "file_extension": ".py",
      "mimetype": "text/x-python",
      "name": "python",
      "nbconvert_exporter": "python",
      "pygments_lexer": "ipython3",
      "version": "3.8.8"
    },
    "colab": {
      "provenance": []
    }
  },
  "nbformat": 4,
  "nbformat_minor": 5
}