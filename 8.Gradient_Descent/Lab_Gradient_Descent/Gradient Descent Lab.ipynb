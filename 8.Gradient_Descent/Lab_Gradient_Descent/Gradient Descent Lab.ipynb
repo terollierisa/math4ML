{
 "cells": [
  {
   "cell_type": "markdown",
   "metadata": {},
   "source": [
    "# Optimizing functions with Gradient Descent"
   ]
  },
  {
   "cell_type": "markdown",
   "metadata": {},
   "source": [
    "In this lab, we'll start by understanding gradient descent with simple single-variable functions featuring either one or multiple minima. Then, we'll explore optimizing functions with two variables by applying gradient descent to solve real-world Linear Regression problems with actual data. "
   ]
  },
  {
   "cell_type": "code",
   "execution_count": 1,
   "metadata": {},
   "outputs": [],
   "source": [
    "import numpy as np\n",
    "import matplotlib.pyplot as plt\n",
    "import pandas as pd\n",
    "plt.style.use(['ggplot'])"
   ]
  },
  {
   "cell_type": "markdown",
   "metadata": {},
   "source": [
    "### Optimizing functions with One Variable"
   ]
  },
  {
   "cell_type": "markdown",
   "metadata": {},
   "source": [
    "#### 1. Function with One Global Minimum"
   ]
  },
  {
   "cell_type": "markdown",
   "metadata": {},
   "source": [
    "The function $f(x) = x^2$ is a single-variable function with just one minimum point, often referred to as the global minimum. In this section of the lab, we'll employ gradient descent to minimize it.\n",
    "\n",
    "To kick off the gradient descent process, you'll begin with an initial point $x_0$. Our objective is to locate a point where the derivative equals zero. To do this, we'll move in the opposite direction of the gradient, which points toward the steepest ascent of the function. The process is straightforward: we'll repeat these steps iteratively.\n",
    "- Calculate the gradient $\\frac{d}{dx}f(x_0)$\n",
    "- Determine the next point using this expression: $$x_1 = x_0 - \\alpha \\frac{d}{dx}f(x_0)\\tag{1}$$\n",
    "\n",
    "First, define function $f\\left(x\\right)=x^2$ and its derivative $\\frac{d}{dx}f\\left(x\\right)=2x$:"
   ]
  },
  {
   "cell_type": "code",
   "execution_count": 2,
   "metadata": {},
   "outputs": [],
   "source": [
    "def f_square(x):\n",
    "    return x**2\n",
    "\n",
    "def dfdx_square(x):\n",
    "    return 2*x"
   ]
  },
  {
   "cell_type": "markdown",
   "metadata": {},
   "source": [
    "Now, let's plot the function: "
   ]
  },
  {
   "cell_type": "code",
   "execution_count": 9,
   "metadata": {},
   "outputs": [
    {
     "data": {
      "text/plain": [
       "[<matplotlib.lines.Line2D at 0x7fb14f7b9eb0>]"
      ]
     },
     "execution_count": 9,
     "metadata": {},
     "output_type": "execute_result"
    },
    {
     "data": {
      "image/png": "[encoded data removed]",
      "text/plain": [
       "<Figure size 432x288 with 1 Axes>"
      ]
     },
     "metadata": {},
     "output_type": "display_data"
    }
   ],
   "source": [
    "x = np.linspace(-1, 1, 1000)\n",
    "plt.plot(x, np.vectorize(f_square)(x))"
   ]
  },
  {
   "cell_type": "markdown",
   "metadata": {},
   "source": [
    "Next, we will implement gradient descent.The function we'll be creating should accept three parameters:\n",
    "- `dfdx`: the name of the function responsible for calculating the derivative (in our case, `dfdx_square`)\n",
    "- `x`: the current position\n",
    "- `alpha`: the learning rate\n",
    "- `num_iterations`: the number of iterations the update step will be executed."
   ]
  },
  {
   "cell_type": "code",
   "execution_count": 114,
   "metadata": {},
   "outputs": [],
   "source": [
    "def gradient_descent(dfdx, x, alpha, num_iterations):\n",
    "    pass"
   ]
  },
  {
   "cell_type": "markdown",
   "metadata": {},
   "source": [
    "In order to optimize the function, we need to set up the parameters and call the function `gradient_descent`:"
   ]
  },
  {
   "cell_type": "code",
   "execution_count": 115,
   "metadata": {},
   "outputs": [
    {
     "name": "stdout",
     "output_type": "stream",
     "text": [
      "The minimum is found at:  1.527776982250866e-10\n"
     ]
    }
   ],
   "source": [
    "x_initial = 0.75\n",
    "alpha = 0.1\n",
    "num_iterations = 100\n",
    "min_x = gradient_descent(dfdx_square, x_initial, alpha, num_iterations)\n",
    "print(\"The minimum is found at: \", min_x)"
   ]
  },
  {
   "cell_type": "markdown",
   "metadata": {},
   "source": [
    "Let's try another set of parameters:"
   ]
  },
  {
   "cell_type": "code",
   "execution_count": 116,
   "metadata": {},
   "outputs": [
    {
     "name": "stdout",
     "output_type": "stream",
     "text": [
      "The minimum is found at:  -1.6069380442589985e-40\n"
     ]
    }
   ],
   "source": [
    "x_initial = -1\n",
    "alpha = 0.3\n",
    "num_iterations = 100\n",
    "min_x = gradient_descent(dfdx_square, x_initial, alpha, num_iterations)\n",
    "print(\"The minimum is found at: \", min_x)"
   ]
  },
  {
   "cell_type": "markdown",
   "metadata": {},
   "source": [
    "#### 2. Function with Multiple Minima"
   ]
  },
  {
   "cell_type": "markdown",
   "metadata": {},
   "source": [
    "The function $f(x) = ln(x)sin(\\pi x^2)$ is a single-variable function with multiple minima. In this section of the lab, we'll employ gradient descent to minimize the function considering the domain $[1,2]$."
   ]
  },
  {
   "cell_type": "markdown",
   "metadata": {},
   "source": [
    "First, let's define the function and its derivative as lambda expression. "
   ]
  },
  {
   "cell_type": "code",
   "execution_count": 142,
   "metadata": {},
   "outputs": [],
   "source": [
    "f_complex = None\n",
    "dfdx_complex = None"
   ]
  },
  {
   "cell_type": "markdown",
   "metadata": {},
   "source": [
    "Now, let's plot the function with values of $x$ from 0.1 to 2. "
   ]
  },
  {
   "cell_type": "code",
   "execution_count": 143,
   "metadata": {},
   "outputs": [
    {
     "data": {
      "text/plain": [
       "[<matplotlib.lines.Line2D at 0x7fb154078b80>]"
      ]
     },
     "execution_count": 143,
     "metadata": {},
     "output_type": "execute_result"
    },
    {
     "data": {
      "image/png": "[encoded data removed]",
      "text/plain": [
       "<Figure size 432x288 with 1 Axes>"
      ]
     },
     "metadata": {},
     "output_type": "display_data"
    }
   ],
   "source": [
    "x = np.linspace(0.1,2,1000)\n",
    "plt.plot(x, np.vectorize(f_complex)(x))"
   ]
  },
  {
   "cell_type": "markdown",
   "metadata": {},
   "source": [
    "Now, call the `gradient_descent` function with a set of parameters:"
   ]
  },
  {
   "cell_type": "code",
   "execution_count": 144,
   "metadata": {},
   "outputs": [
    {
     "name": "stdout",
     "output_type": "stream",
     "text": [
      "The minimum is found at:  0.7585728794500655\n"
     ]
    }
   ],
   "source": [
    "x_initial = 0.4\n",
    "alpha = 0.005\n",
    "num_iterations = 100\n",
    "x_min_1 = gradient_descent(dfdx_complex, x_initial, alpha, num_iterations)\n",
    "print(\"The minimum is found at: \", x_min_1)"
   ]
  },
  {
   "cell_type": "markdown",
   "metadata": {},
   "source": [
    "Let's try another set of parameters:"
   ]
  },
  {
   "cell_type": "code",
   "execution_count": 145,
   "metadata": {},
   "outputs": [
    {
     "name": "stdout",
     "output_type": "stream",
     "text": [
      "The minimum is found at:  1.7751686214270586\n"
     ]
    }
   ],
   "source": [
    "x_initial = 1.5\n",
    "alpha = 0.005\n",
    "num_iterations = 100\n",
    "x_min_1 = gradient_descent(dfdx_complex, x_initial, alpha, num_iterations)\n",
    "print(\"The minimum is found at: \", x_min_1)"
   ]
  },
  {
   "cell_type": "markdown",
   "metadata": {},
   "source": [
    "### Optimizing functions with Two Variable"
   ]
  },
  {
   "cell_type": "markdown",
   "metadata": {},
   "source": [
    "During this segment of the lab, we will construct a basic linear regression model aimed at predicting an employee's salary based on their years of experience. Our objective here is to create and optimize the cost function, which is the sum of squares, using gradient descent. The data is saved in a file `salary_data.csv`. The dataset has only two fields: `YearsExperience` and `Salary`. We are going to use `YearsExperience` to predict the `Salary` of a person. "
   ]
  },
  {
   "cell_type": "markdown",
   "metadata": {},
   "source": [
    "First, load the dataset into a dataframe using the `read_csv()` function of `pandas`."
   ]
  },
  {
   "cell_type": "code",
   "execution_count": 148,
   "metadata": {},
   "outputs": [],
   "source": [
    "df = None"
   ]
  },
  {
   "cell_type": "code",
   "execution_count": 150,
   "metadata": {},
   "outputs": [
    {
     "data": {
      "text/html": [
       "<div>\n",
       "<style scoped>\n",
       "    .dataframe tbody tr th:only-of-type {\n",
       "        vertical-align: middle;\n",
       "    }\n",
       "\n",
       "    .dataframe tbody tr th {\n",
       "        vertical-align: top;\n",
       "    }\n",
       "\n",
       "    .dataframe thead th {\n",
       "        text-align: right;\n",
       "    }\n",
       "</style>\n",
       "<table border=\"1\" class=\"dataframe\">\n",
       "  <thead>\n",
       "    <tr style=\"text-align: right;\">\n",
       "      <th></th>\n",
       "      <th>YearsExperience</th>\n",
       "      <th>Salary</th>\n",
       "    </tr>\n",
       "  </thead>\n",
       "  <tbody>\n",
       "    <tr>\n",
       "      <th>0</th>\n",
       "      <td>1.1</td>\n",
       "      <td>39343.0</td>\n",
       "    </tr>\n",
       "    <tr>\n",
       "      <th>1</th>\n",
       "      <td>1.3</td>\n",
       "      <td>46205.0</td>\n",
       "    </tr>\n",
       "    <tr>\n",
       "      <th>2</th>\n",
       "      <td>1.5</td>\n",
       "      <td>37731.0</td>\n",
       "    </tr>\n",
       "    <tr>\n",
       "      <th>3</th>\n",
       "      <td>2.0</td>\n",
       "      <td>43525.0</td>\n",
       "    </tr>\n",
       "    <tr>\n",
       "      <th>4</th>\n",
       "      <td>2.2</td>\n",
       "      <td>39891.0</td>\n",
       "    </tr>\n",
       "  </tbody>\n",
       "</table>\n",
       "</div>"
      ],
      "text/plain": [
       "   YearsExperience   Salary\n",
       "0              1.1  39343.0\n",
       "1              1.3  46205.0\n",
       "2              1.5  37731.0\n",
       "3              2.0  43525.0\n",
       "4              2.2  39891.0"
      ]
     },
     "execution_count": 150,
     "metadata": {},
     "output_type": "execute_result"
    }
   ],
   "source": [
    "df.head()"
   ]
  },
  {
   "cell_type": "markdown",
   "metadata": {},
   "source": [
    "Next, let's plot the dataset as a scatter plot. "
   ]
  },
  {
   "cell_type": "code",
   "execution_count": 155,
   "metadata": {},
   "outputs": [
    {
     "data": {
      "text/plain": [
       "<matplotlib.axes._subplots.AxesSubplot at 0x7fb155183610>"
      ]
     },
     "execution_count": 155,
     "metadata": {},
     "output_type": "execute_result"
    },
    {
     "data": {
      "image/png": "[encoded data removed]",
      "text/plain": [
       "<Figure size 432x288 with 1 Axes>"
      ]
     },
     "metadata": {},
     "output_type": "display_data"
    }
   ],
   "source": [
    "df.plot(kind = \"scatter\", x = \"YearsExperience\", y = \"Salary\")"
   ]
  },
  {
   "cell_type": "markdown",
   "metadata": {},
   "source": [
    "For this example, we would like to learn the equation of a line $h(\\theta) = \\theta_0 + \\theta_1 x$, where $x$ is the number number of years of experience and $h(\\theta)$ is the predicted salary.\n",
    "\n",
    "Assuming that we have a total of $m$ examples in our dataset and the $i^{th}$ example is denoted by $(x^{(i)}, y^{(i)})$, to find the line, we will minizime the  sum of squares cost function $$J(\\theta) = \\frac{1}{2m} \\sum^m_{i=1}(h_\\theta(x^{(i)}) - y^{(i)})^2\\tag{1}$$\n",
    "\n",
    "To use gradient descent algorithm,we need to update the parameters iteratively using the expressions:\n",
    "\n",
    "$$ \\theta_0 := \\theta_0 - \\frac{\\alpha}{m} \\sum^m_{i=1}(h_\\theta(x^{(i)}) - y^{(i)})$$\n",
    "$$ \\theta_1 := \\theta_1 - \\frac{\\alpha}{m} \\sum^m_{i=1}(h_\\theta(x^{(i)}) - y^{(i)})x^{(i)} \\tag{2}$$\n",
    "\n",
    "where $\\alpha$ is the learning rate. "
   ]
  },
  {
   "cell_type": "markdown",
   "metadata": {},
   "source": [
    "Let's start by splitting the features and the target variable into two variables `X` and `y`."
   ]
  },
  {
   "cell_type": "code",
   "execution_count": 170,
   "metadata": {},
   "outputs": [],
   "source": [
    "X = None\n",
    "y = None"
   ]
  },
  {
   "cell_type": "markdown",
   "metadata": {},
   "source": [
    "To make gradient descent more effective, normalize `X` and `y` to bring them to the same units."
   ]
  },
  {
   "cell_type": "code",
   "execution_count": 171,
   "metadata": {},
   "outputs": [],
   "source": [
    "X_norm = None\n",
    "y_norm = None"
   ]
  },
  {
   "cell_type": "markdown",
   "metadata": {},
   "source": [
    "Now, we need to define the cost function according to the equation $(1)$:"
   ]
  },
  {
   "cell_type": "code",
   "execution_count": 172,
   "metadata": {},
   "outputs": [],
   "source": [
    "def J(X, y, theta_0, theta_1):\n",
    "    pass"
   ]
  },
  {
   "cell_type": "markdown",
   "metadata": {},
   "source": [
    "Next, we will define two functions for the partial derivatives of $\\theta_0$ and $\\theta_1$."
   ]
  },
  {
   "cell_type": "code",
   "execution_count": 181,
   "metadata": {},
   "outputs": [],
   "source": [
    "def d_theta_1(X, y, theta_0, theta_1): return 1/len(y) * np.dot(theta_0 + theta_1*X - y, X)"
   ]
  },
  {
   "cell_type": "code",
   "execution_count": 182,
   "metadata": {},
   "outputs": [],
   "source": [
    "def d_theta_0(X, y, theta_0, theta_1): return 1/len(y) * np.sum(theta_0 + theta_1*X - y)"
   ]
  },
  {
   "cell_type": "markdown",
   "metadata": {},
   "source": [
    "We will implement the `gradient_descent` function that would update the parameters according to the equations $(1)$."
   ]
  },
  {
   "cell_type": "code",
   "execution_count": 197,
   "metadata": {},
   "outputs": [],
   "source": [
    "def gradient_descent(theta_0, theta_1, X, y, alpha, num_iterations):\n",
    "    for iteration in range(num_iterations):\n",
    "        new_theta_0 = theta_0 - alpha * d_theta_0(X,y, theta_0,theta_1)\n",
    "        new_theta_1 = theta_1 - alpha * d_theta_1(X,y, theta_0,theta_1)\n",
    "        theta_0 = new_theta_0\n",
    "        theta_1 = new_theta_1\n",
    "    return theta_0, theta_1"
   ]
  },
  {
   "cell_type": "code",
   "execution_count": 198,
   "metadata": {},
   "outputs": [],
   "source": [
    "(theta_0, theta_1) = gradient_descent(0,0, X_norm, y_norm, 0.1, 1000)"
   ]
  },
  {
   "cell_type": "markdown",
   "metadata": {},
   "source": [
    "Finally,we will make a scatter plot with our dataset and the line plot we learned from gradient descent. "
   ]
  },
  {
   "cell_type": "code",
   "execution_count": 199,
   "metadata": {},
   "outputs": [
    {
     "data": {
      "text/plain": [
       "[<matplotlib.lines.Line2D at 0x7fb155903c40>]"
      ]
     },
     "execution_count": 199,
     "metadata": {},
     "output_type": "execute_result"
    },
    {
     "data": {
      "image/png": "[encoded data removed]",
      "text/plain": [
       "<Figure size 432x288 with 1 Axes>"
      ]
     },
     "metadata": {},
     "output_type": "display_data"
    }
   ],
   "source": [
    "normalized_df = pd.DataFrame()\n",
    "new_df[\"YearsExperience\"] = X_norm\n",
    "new_df[\"Salary\"] = y_norm\n",
    "new_df.plot(kind = \"scatter\", x = \"YearsExperience\", y = \"Salary\")\n",
    "plt.plot(np.linspace(-1.5, 2, 1000), np.vectorize(lambda x: theta_0 + theta_1 *x)(np.linspace(-1.5, 2, 1000)))"
   ]
  },
  {
   "cell_type": "code",
   "execution_count": null,
   "metadata": {},
   "outputs": [],
   "source": []
  }
 ],
 "metadata": {
  "kernelspec": {
   "display_name": "Python 3",
   "language": "python",
   "name": "python3"
  },
  "language_info": {
   "codemirror_mode": {
    "name": "ipython",
    "version": 3
   },
   "file_extension": ".py",
   "mimetype": "text/x-python",
   "name": "python",
   "nbconvert_exporter": "python",
   "pygments_lexer": "ipython3",
   "version": "3.8.3"
  }
 },
 "nbformat": 4,
 "nbformat_minor": 4
}
