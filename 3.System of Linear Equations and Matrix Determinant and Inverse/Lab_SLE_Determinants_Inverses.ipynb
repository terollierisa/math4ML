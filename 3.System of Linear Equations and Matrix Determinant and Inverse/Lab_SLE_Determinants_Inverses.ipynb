{
  "cells": [
    {
      "cell_type": "markdown",
      "id": "signed-sight",
      "metadata": {
        "id": "signed-sight"
      },
      "source": [
        "# Solving System of Linear Equations with 3 variables\n",
        "\n"
      ]
    },
    {
      "cell_type": "markdown",
      "id": "representative-velvet",
      "metadata": {
        "id": "representative-velvet"
      },
      "source": [
        "In this lab we will:\n",
        "\n",
        "- Use `NumPy` linear algebra package to solve a system of linear equations\n",
        "- Perform row transformation operations to bring a matrix into row echelon form\n",
        "- Find the solution for the system of linear equations using the row echolon form of the matrix"
      ]
    },
    {
      "cell_type": "markdown",
      "id": "persistent-sweden",
      "metadata": {
        "id": "persistent-sweden"
      },
      "source": [
        "## Packages\n",
        "\n",
        "Load the `NumPy` *library* into memory"
      ]
    },
    {
      "cell_type": "code",
      "execution_count": 1,
      "id": "metropolitan-shape",
      "metadata": {
        "id": "metropolitan-shape"
      },
      "outputs": [],
      "source": [
        "import numpy as np"
      ]
    },
    {
      "cell_type": "markdown",
      "id": "chief-istanbul",
      "metadata": {
        "id": "chief-istanbul"
      },
      "source": [
        "<a name='1'></a>\n",
        "## 1 - Representing and Solving a System of Linear Equations using Matrices"
      ]
    },
    {
      "cell_type": "markdown",
      "id": "advance-count",
      "metadata": {
        "id": "advance-count"
      },
      "source": [
        "<a name='1.1'></a>\n",
        "### 1.1 - System of Linear Equations\n",
        "\n",
        "Here is a **system of linear equations** with three equations and three unknown variables:\n",
        "\n",
        "\n",
        "$$\\begin{cases}\n",
        "x+\\ \\ y+3z=15 \\\\ x + 2y + 4z = 21 \\\\ x + \\ \\ y+ 2z = 13 \\end{cases}\\tag{1}$$\n",
        "\n",
        "**To solve** this system of linear equations means to find values of $x$, $y$, $z$ that satisfy all of its equations simultaneously."
      ]
    },
    {
      "cell_type": "markdown",
      "id": "sharp-strike",
      "metadata": {
        "id": "sharp-strike"
      },
      "source": [
        "<a name='1.2'></a>\n",
        "### 1.2 - Solving Systems of Linear Equations using Matrices\n",
        "\n",
        "Create a a 2-D numpy array $A$ which will be a matrix where each row will represent one equation in the system, and $b$ which must be a 1-D array of the right side coefficients:"
      ]
    },
    {
      "cell_type": "code",
      "execution_count": 4,
      "id": "tired-filing",
      "metadata": {
        "id": "tired-filing"
      },
      "outputs": [],
      "source": [
        "A = np.array([\n",
        "        [None, None, None],\n",
        "        [None, None, None],\n",
        "        [None, None, None]\n",
        "    ])\n",
        "\n",
        "b = np.array([None, None, None])"
      ]
    },
    {
      "cell_type": "markdown",
      "id": "premium-soviet",
      "metadata": {
        "id": "premium-soviet"
      },
      "source": [
        "\n",
        "Print the dimentions of $A$ and $b$ using `shape()` method of `NumPy`.\n",
        "\n"
      ]
    },
    {
      "cell_type": "code",
      "execution_count": null,
      "id": "political-aberdeen",
      "metadata": {
        "id": "political-aberdeen"
      },
      "outputs": [],
      "source": [
        "print(f\"Shape of A: {np.shape(A)}\")\n",
        "print(f\"Shape of b: {np.shape(b)}\")"
      ]
    },
    {
      "cell_type": "markdown",
      "id": "complimentary-testimony",
      "metadata": {
        "id": "complimentary-testimony"
      },
      "source": [
        "Solve the equaiton $Ax=b$ using `np.linalg.solve(A, b)`. The result will be saved in the 1-D array $s$. The elements will correspond to the values of $x$, $y$ and $z$:"
      ]
    },
    {
      "cell_type": "code",
      "execution_count": null,
      "id": "broke-vietnamese",
      "metadata": {
        "id": "broke-vietnamese"
      },
      "outputs": [],
      "source": [
        "s = None\n",
        "\n",
        "print(f\"Solution: {s}\")"
      ]
    },
    {
      "cell_type": "markdown",
      "id": "handed-tolerance",
      "metadata": {
        "id": "handed-tolerance"
      },
      "source": [
        "<a name='2'></a>\n",
        "## 2 - Solving System of Linear Equations using Row Reduction"
      ]
    },
    {
      "cell_type": "markdown",
      "id": "intense-closer",
      "metadata": {
        "id": "intense-closer"
      },
      "source": [
        "<a name='2.1'></a>\n",
        "### 2.1 - Preparation for Row Reduction\n",
        "\n",
        "\n",
        "Firstly, we need to create an augmented matrix $A$_$system$  by unify  matrix $A$ and array $b$ into one matrix using the `np.hstack()` function.\n"
      ]
    },
    {
      "cell_type": "code",
      "execution_count": null,
      "id": "diverse-mayor",
      "metadata": {
        "id": "diverse-mayor"
      },
      "outputs": [],
      "source": [
        "A_system = None\n",
        "\n",
        "print(A_system)"
      ]
    },
    {
      "cell_type": "markdown",
      "id": "needed-organ",
      "metadata": {
        "id": "needed-organ"
      },
      "source": [
        "<a name='2.2'></a>\n",
        "\n",
        "### 2.2 - Elementary Row Operations\n",
        "While solving a system of linear equations, we are allowed to performed these row transformation operations:\n",
        "\n",
        "1.   Multiply one row by a non-zero number\n",
        "2.   Replace one row with the sum of that row with another row.\n",
        "3.   Exchange two rows.\n",
        "\n",
        "\n",
        "Next, we will define one Python function for each of the opeations mentioned above:"
      ]
    },
    {
      "cell_type": "code",
      "execution_count": null,
      "id": "unlimited-promotion",
      "metadata": {
        "id": "unlimited-promotion"
      },
      "outputs": [],
      "source": [
        "#row = scalar * row\n",
        "def MultiplyRow(M, row, scalar):\n",
        "    None"
      ]
    },
    {
      "cell_type": "code",
      "execution_count": null,
      "id": "governmental-underwear",
      "metadata": {
        "id": "governmental-underwear"
      },
      "outputs": [],
      "source": [
        "# row_num_2 = scalar * row_num_1 + row_num_2,\n",
        "def AddRows(M, row_num_1, row_num_2, scalar):\n",
        "    None"
      ]
    },
    {
      "cell_type": "code",
      "execution_count": null,
      "id": "musical-humanity",
      "metadata": {
        "id": "musical-humanity"
      },
      "outputs": [],
      "source": [
        "# exchange row_num_1 and row_num_2 of the matrix M\n",
        "def ExchangeRows(M, row_num_1, row_num_2):\n",
        "    None"
      ]
    },
    {
      "cell_type": "markdown",
      "id": "hybrid-circuit",
      "metadata": {
        "id": "hybrid-circuit"
      },
      "source": [
        "<a name='2.3'></a>\n",
        "\n",
        "\n",
        "### 2.3 - Row Echelon Form\n",
        "Provide all steps to convert Matrix $A$_$system$ into row echelon form.\n",
        "\n",
        "- Row_2 = Row_2 - Row_1"
      ]
    },
    {
      "cell_type": "code",
      "execution_count": null,
      "id": "together-dancing",
      "metadata": {
        "id": "together-dancing"
      },
      "outputs": [],
      "source": [
        "A_ref = None\n",
        "print(A_ref)"
      ]
    },
    {
      "cell_type": "markdown",
      "id": "composite-pocket",
      "metadata": {
        "id": "composite-pocket"
      },
      "source": [
        "- Row_3  = Row_3 - Row_1"
      ]
    },
    {
      "cell_type": "code",
      "execution_count": null,
      "id": "involved-messenger",
      "metadata": {
        "id": "involved-messenger"
      },
      "outputs": [],
      "source": [
        "A_ref = None\n",
        "print(A_ref)"
      ]
    },
    {
      "cell_type": "markdown",
      "source": [
        "- Row_3 = -1 * Row_3"
      ],
      "metadata": {
        "id": "zUwo3qAkklVg"
      },
      "id": "zUwo3qAkklVg"
    },
    {
      "cell_type": "code",
      "execution_count": null,
      "id": "aboriginal-hydrogen",
      "metadata": {
        "id": "aboriginal-hydrogen"
      },
      "outputs": [],
      "source": [
        "A_ref = None\n",
        "print(A_ref)"
      ]
    },
    {
      "cell_type": "markdown",
      "id": "later-colonial",
      "metadata": {
        "id": "later-colonial"
      },
      "source": [
        "Now, it is easy to find the value of z is 2 from the third row. Moving upward by substritution we can find teh value of y is 4 and value of x is 5.  \n"
      ]
    },
    {
      "cell_type": "code",
      "source": [
        "z = None\n",
        "y = None\n",
        "x = None\n",
        "\n",
        "print(x, y, z)"
      ],
      "metadata": {
        "id": "L5f_nWz-pBju"
      },
      "id": "L5f_nWz-pBju",
      "execution_count": null,
      "outputs": []
    },
    {
      "cell_type": "markdown",
      "source": [
        "<a name='2.4'></a>\n",
        "\n",
        "\n",
        "### 2.4 - Reduced Row Echelon Form\n",
        "\n",
        "Let us continue our row operations to convert the matrix into reduced row echelon form."
      ],
      "metadata": {
        "id": "e2xV5aM6leGS"
      },
      "id": "e2xV5aM6leGS"
    },
    {
      "cell_type": "markdown",
      "source": [
        "- Row_2  = Row_2 - Row_3"
      ],
      "metadata": {
        "id": "JNdF74bqlpc7"
      },
      "id": "JNdF74bqlpc7"
    },
    {
      "cell_type": "code",
      "execution_count": null,
      "id": "brutal-scott",
      "metadata": {
        "id": "brutal-scott"
      },
      "outputs": [],
      "source": [
        "A_rref = None\n",
        "print(A_rref)"
      ]
    },
    {
      "cell_type": "markdown",
      "id": "south-taste",
      "metadata": {
        "id": "south-taste"
      },
      "source": [
        "Row_1 = Row_1 - 3*Row_3"
      ]
    },
    {
      "cell_type": "code",
      "execution_count": null,
      "id": "great-address",
      "metadata": {
        "id": "great-address"
      },
      "outputs": [],
      "source": [
        "A_rref = None\n",
        "print(A_rref)"
      ]
    },
    {
      "cell_type": "markdown",
      "id": "committed-jaguar",
      "metadata": {
        "id": "committed-jaguar"
      },
      "source": [
        "Row_1 = Row_1 - Row_2"
      ]
    },
    {
      "cell_type": "code",
      "source": [
        "A_rref = None\n",
        "print(A_rref)"
      ],
      "metadata": {
        "id": "8dbhCGZSoh_x"
      },
      "id": "8dbhCGZSoh_x",
      "execution_count": null,
      "outputs": []
    },
    {
      "cell_type": "markdown",
      "source": [
        "Once, the matrix has reached reduced row echelon form, it is trivial to see that: \\\\\n",
        "$$x = 5 \\\\\n",
        "y = 4 \\\\\n",
        "z=2$$"
      ],
      "metadata": {
        "id": "2sgAA63Xorl_"
      },
      "id": "2sgAA63Xorl_"
    },
    {
      "cell_type": "code",
      "source": [],
      "metadata": {
        "id": "rmC15BEZqOD4"
      },
      "id": "rmC15BEZqOD4",
      "execution_count": null,
      "outputs": []
    },
    {
      "cell_type": "markdown",
      "source": [
        "<a name='3'></a>\n",
        "## 3 - Computing the inverse of matrices using Row Reduction"
      ],
      "metadata": {
        "id": "DzCkRaJQqSLQ"
      },
      "id": "DzCkRaJQqSLQ"
    },
    {
      "cell_type": "code",
      "source": [
        "print(\"Matrix A: \")\n",
        "print(A)"
      ],
      "metadata": {
        "id": "Gj1zyaeYqalg"
      },
      "id": "Gj1zyaeYqalg",
      "execution_count": null,
      "outputs": []
    },
    {
      "cell_type": "code",
      "source": [
        "det = None\n",
        "print(f\"Determinant of A: {det}\")"
      ],
      "metadata": {
        "id": "FdXRGlCfqTH2"
      },
      "id": "FdXRGlCfqTH2",
      "execution_count": null,
      "outputs": []
    },
    {
      "cell_type": "code",
      "source": [],
      "metadata": {
        "id": "Zv8It_-Gq0Xl"
      },
      "id": "Zv8It_-Gq0Xl",
      "execution_count": null,
      "outputs": []
    },
    {
      "cell_type": "markdown",
      "source": [
        "Firstly, we need to create an augmented matrix by unifying matrix A with a 3x3 identity matrix using using the `np.hstack()` function."
      ],
      "metadata": {
        "id": "8wnZtZvWrBXC"
      },
      "id": "8wnZtZvWrBXC"
    },
    {
      "cell_type": "code",
      "source": [
        "A_aug = None\n",
        "print(\"The augmented matrix is: \")\n",
        "print(A_aug)"
      ],
      "metadata": {
        "id": "cvlGUPROrOHo"
      },
      "id": "cvlGUPROrOHo",
      "execution_count": null,
      "outputs": []
    },
    {
      "cell_type": "markdown",
      "source": [
        "Apply all row transformations to convert the left 3 by 3 matrix to the identity matrix."
      ],
      "metadata": {
        "id": "G5Wj_YjRrpQB"
      },
      "id": "G5Wj_YjRrpQB"
    },
    {
      "cell_type": "code",
      "source": [
        "None"
      ],
      "metadata": {
        "id": "4q3nqN7BrtoC"
      },
      "id": "4q3nqN7BrtoC",
      "execution_count": null,
      "outputs": []
    },
    {
      "cell_type": "code",
      "source": [
        "A_aug"
      ],
      "metadata": {
        "id": "FsdsShxMsLDj"
      },
      "id": "FsdsShxMsLDj",
      "execution_count": null,
      "outputs": []
    },
    {
      "cell_type": "code",
      "source": [
        "A_inv = None"
      ],
      "metadata": {
        "id": "d4JqzoW-sMD-"
      },
      "id": "d4JqzoW-sMD-",
      "execution_count": null,
      "outputs": []
    },
    {
      "cell_type": "code",
      "source": [
        "A_inv"
      ],
      "metadata": {
        "id": "LluK_0w0sUJk"
      },
      "id": "LluK_0w0sUJk",
      "execution_count": null,
      "outputs": []
    },
    {
      "cell_type": "markdown",
      "source": [
        "Make sure to check whether A time A_inv gives the identity matrix:"
      ],
      "metadata": {
        "id": "LJu1Z2QKsYQf"
      },
      "id": "LJu1Z2QKsYQf"
    },
    {
      "cell_type": "code",
      "source": [
        "A.dot(A_inv)"
      ],
      "metadata": {
        "id": "eTEv12QCsdvg"
      },
      "id": "eTEv12QCsdvg",
      "execution_count": null,
      "outputs": []
    },
    {
      "cell_type": "markdown",
      "source": [
        "There is an easier way to compute the inverse of a matrix by using `np.linalg.inv` function."
      ],
      "metadata": {
        "id": "eCBFedU1sovX"
      },
      "id": "eCBFedU1sovX"
    },
    {
      "cell_type": "code",
      "source": [
        "None"
      ],
      "metadata": {
        "id": "NTpyDO1AsxN5"
      },
      "id": "NTpyDO1AsxN5",
      "execution_count": null,
      "outputs": []
    }
  ],
  "metadata": {
    "kernelspec": {
      "display_name": "Python 3",
      "language": "python",
      "name": "python3"
    },
    "language_info": {
      "codemirror_mode": {
        "name": "ipython",
        "version": 3
      },
      "file_extension": ".py",
      "mimetype": "text/x-python",
      "name": "python",
      "nbconvert_exporter": "python",
      "pygments_lexer": "ipython3",
      "version": "3.8.8"
    },
    "colab": {
      "provenance": []
    }
  },
  "nbformat": 4,
  "nbformat_minor": 5
}