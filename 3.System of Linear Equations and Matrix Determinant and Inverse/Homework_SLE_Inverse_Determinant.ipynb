{
  "nbformat": 4,
  "nbformat_minor": 0,
  "metadata": {
    "colab": {
      "provenance": []
    },
    "kernelspec": {
      "name": "python3",
      "display_name": "Python 3"
    },
    "language_info": {
      "name": "python"
    }
  },
  "cells": [
    {
      "cell_type": "markdown",
      "source": [
        "# System of Linear Equations with a unique solution, Matrix Inverse and the Determinant"
      ],
      "metadata": {
        "id": "7d4kO_YT0oDD"
      }
    },
    {
      "cell_type": "markdown",
      "source": [
        "The goal of this homework is to learn how to solve systems of linear equations and to be able to compute the determinant and the inverse of an invertible matrix.\n",
        "\n",
        "**After this assignment you will be able to:**\n",
        "- Use `NumPy` package to set up the arrays corresponding to the system of linear equations.\n",
        "- Evaluate the determinant of a matrix and find the solution of the system with `NumPy` linear algebra package.\n",
        "- Perform row reduction to bring matrix into row echelon form\n",
        "- Find the solution for the system of linear equations using row reduced approach.\n",
        "- Compute the inverse of a matrix with `Numpy` linear algebra package and using row reduction approach."
      ],
      "metadata": {
        "id": "bJl8_1-B00g3"
      }
    },
    {
      "cell_type": "markdown",
      "source": [
        "## 1. Solving System of Linear Equations\n",
        "\n",
        "### 1.1 Row Reduction approach"
      ],
      "metadata": {
        "id": "al1PcVSW2LSU"
      }
    },
    {
      "cell_type": "markdown",
      "source": [
        "Solve the following system of linear equations using the reduction method:\n",
        "$$\\begin{cases}\n",
        "x + 2y - 3z + 4w = 12, \\\\ 2x + 2y - 2z + 3w = 10, \\\\ y + z = -1, \\\\ x - y + z - 2w = -4 \\end{cases}\\tag{1}$$\n"
      ],
      "metadata": {
        "id": "YKrWvcu-2j5Y"
      }
    },
    {
      "cell_type": "code",
      "source": [],
      "metadata": {
        "id": "DrkFDTJc4GNP"
      },
      "execution_count": null,
      "outputs": []
    },
    {
      "cell_type": "markdown",
      "source": [
        "### 1.2 `Numpy` linear algebra package\n",
        "Solve the above system of linear equations using the `numpy.linalg` package."
      ],
      "metadata": {
        "id": "Yq8zCJ024YSK"
      }
    },
    {
      "cell_type": "code",
      "source": [],
      "metadata": {
        "id": "zIgQXSG84uSq"
      },
      "execution_count": null,
      "outputs": []
    },
    {
      "cell_type": "markdown",
      "source": [
        "## 2. Determinant\n",
        "### 2.1 Compute the determinant of matrix $A$ using the `numpy.linalg` package:\n",
        "\n",
        "$$ \\begin{align}\n",
        "  \\textbf{A}  = \\begin{bmatrix}\n",
        "1 & 0 & -2\\\\\n",
        "3 & 1 & -2\\\\\n",
        "-5 & -1 & 9\n",
        "\\end{bmatrix}\n",
        "  \\end{align}\n",
        "  $$"
      ],
      "metadata": {
        "id": "a3zNZvUI47--"
      }
    },
    {
      "cell_type": "code",
      "source": [
        "#TODO"
      ],
      "metadata": {
        "id": "8UE20mGu5Cy4"
      },
      "execution_count": null,
      "outputs": []
    },
    {
      "cell_type": "markdown",
      "source": [
        "### 2.2 Is the above matrix invertible? Why?"
      ],
      "metadata": {
        "id": "AiwFmcw46fHm"
      }
    },
    {
      "cell_type": "markdown",
      "source": [
        "Answer here:"
      ],
      "metadata": {
        "id": "YfkS_QNJ67kT"
      }
    },
    {
      "cell_type": "markdown",
      "source": [
        "# 3. Matrix Inverse\n",
        "### 3.1 Compute the inverse of non-singular matrix $B$ using row reduction\n",
        "$$ \\begin{align}\n",
        "  \\textbf{B}  = \\begin{bmatrix}\n",
        "1 & 2 & 1\\\\\n",
        "4 & 4 & 5\\\\\n",
        "6 & 7 & 7\n",
        "\\end{bmatrix}\n",
        "  \\end{align}\n",
        "  $$"
      ],
      "metadata": {
        "id": "A_x3V2i16mWE"
      }
    },
    {
      "cell_type": "code",
      "source": [
        "#TODO\n"
      ],
      "metadata": {
        "id": "6H1rRYEs6y62"
      },
      "execution_count": null,
      "outputs": []
    },
    {
      "cell_type": "markdown",
      "source": [
        "### 3.2 Compute the inverse matrix $B$ using the `numpy.linalg` package."
      ],
      "metadata": {
        "id": "5voXiito6zis"
      }
    },
    {
      "cell_type": "code",
      "source": [
        "#TODO"
      ],
      "metadata": {
        "id": "BJ3MYBQ-64hV"
      },
      "execution_count": null,
      "outputs": []
    }
  ]
}